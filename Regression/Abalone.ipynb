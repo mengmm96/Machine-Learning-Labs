{
 "cells": [
  {
   "cell_type": "markdown",
   "metadata": {},
   "source": [
    "#  Lab04 Project2        22665473  Zimin Meng"
   ]
  },
  {
   "cell_type": "markdown",
   "metadata": {},
   "source": [
    "This dataset has 4177 instances and 8 dimensions and one label 'Rings' which is the dimension we would like to predict. A 85/15 random split method is used to performing data and training data set. 'Sex' dimension is encoded therefore can also be used to predict rings. This project using Random Forest Regressor to perform the prediction tasks and using Grid Search to find the best hyperparameters. "
   ]
  },
  {
   "cell_type": "markdown",
   "metadata": {},
   "source": [
    "# Data processing and cleaning"
   ]
  },
  {
   "cell_type": "code",
   "execution_count": 222,
   "metadata": {
    "scrolled": true
   },
   "outputs": [
    {
     "name": "stdout",
     "output_type": "stream",
     "text": [
      "<class 'pandas.core.frame.DataFrame'>\n",
      "Int64Index: 4177 entries, 0 to 4176\n",
      "Data columns (total 9 columns):\n",
      "Sex               4177 non-null object\n",
      "Length            4177 non-null float64\n",
      "Diameter          4177 non-null float64\n",
      "Height            4177 non-null float64\n",
      "Whole weight      4177 non-null float64\n",
      "Shucked weight    4177 non-null float64\n",
      "Viscera weight    4177 non-null float64\n",
      "Shell weight      4177 non-null float64\n",
      "Rings             4177 non-null int64\n",
      "dtypes: float64(7), int64(1), object(1)\n",
      "memory usage: 326.3+ KB\n"
     ]
    }
   ],
   "source": [
    "#data processing and cleaning\n",
    "import pandas as pd\n",
    "raw_data = pd.read_csv('abalone.data', delimiter = ',', header = None)\n",
    "data_new = raw_data.rename(columns = {0:'Sex', 1:'Length', 2:'Diameter', 3:'Height', \n",
    "                                  4:'Whole weight', 5:'Shucked weight', 6:'Viscera weight', \n",
    "                                  7:'Shell weight', 8:'Rings'})\n",
    "data_new = data_new.dropna(axis = 0) \n",
    "data_new.info()"
   ]
  },
  {
   "cell_type": "code",
   "execution_count": 223,
   "metadata": {},
   "outputs": [
    {
     "data": {
      "text/plain": [
       "array([[2.],\n",
       "       [2.],\n",
       "       [0.],\n",
       "       ...,\n",
       "       [2.],\n",
       "       [0.],\n",
       "       [2.]])"
      ]
     },
     "execution_count": 223,
     "metadata": {},
     "output_type": "execute_result"
    }
   ],
   "source": [
    "#Encoded Sex from category to numeric\n",
    "from sklearn.preprocessing import OrdinalEncoder\n",
    "sex_col = data_new[['Sex']]\n",
    "ordinal_encoder = OrdinalEncoder()\n",
    "sex_encoded = ordinal_encoder.fit_transform(sex_col)\n",
    "sex_encoded"
   ]
  },
  {
   "cell_type": "code",
   "execution_count": 224,
   "metadata": {},
   "outputs": [
    {
     "data": {
      "text/html": [
       "<div>\n",
       "<style scoped>\n",
       "    .dataframe tbody tr th:only-of-type {\n",
       "        vertical-align: middle;\n",
       "    }\n",
       "\n",
       "    .dataframe tbody tr th {\n",
       "        vertical-align: top;\n",
       "    }\n",
       "\n",
       "    .dataframe thead th {\n",
       "        text-align: right;\n",
       "    }\n",
       "</style>\n",
       "<table border=\"1\" class=\"dataframe\">\n",
       "  <thead>\n",
       "    <tr style=\"text-align: right;\">\n",
       "      <th></th>\n",
       "      <th>Sex</th>\n",
       "      <th>Length</th>\n",
       "      <th>Diameter</th>\n",
       "      <th>Height</th>\n",
       "      <th>Whole weight</th>\n",
       "      <th>Shucked weight</th>\n",
       "      <th>Viscera weight</th>\n",
       "      <th>Shell weight</th>\n",
       "      <th>Rings</th>\n",
       "    </tr>\n",
       "  </thead>\n",
       "  <tbody>\n",
       "    <tr>\n",
       "      <td>0</td>\n",
       "      <td>2.0</td>\n",
       "      <td>0.455</td>\n",
       "      <td>0.365</td>\n",
       "      <td>0.095</td>\n",
       "      <td>0.5140</td>\n",
       "      <td>0.2245</td>\n",
       "      <td>0.1010</td>\n",
       "      <td>0.150</td>\n",
       "      <td>15</td>\n",
       "    </tr>\n",
       "    <tr>\n",
       "      <td>1</td>\n",
       "      <td>2.0</td>\n",
       "      <td>0.350</td>\n",
       "      <td>0.265</td>\n",
       "      <td>0.090</td>\n",
       "      <td>0.2255</td>\n",
       "      <td>0.0995</td>\n",
       "      <td>0.0485</td>\n",
       "      <td>0.070</td>\n",
       "      <td>7</td>\n",
       "    </tr>\n",
       "    <tr>\n",
       "      <td>2</td>\n",
       "      <td>0.0</td>\n",
       "      <td>0.530</td>\n",
       "      <td>0.420</td>\n",
       "      <td>0.135</td>\n",
       "      <td>0.6770</td>\n",
       "      <td>0.2565</td>\n",
       "      <td>0.1415</td>\n",
       "      <td>0.210</td>\n",
       "      <td>9</td>\n",
       "    </tr>\n",
       "    <tr>\n",
       "      <td>3</td>\n",
       "      <td>2.0</td>\n",
       "      <td>0.440</td>\n",
       "      <td>0.365</td>\n",
       "      <td>0.125</td>\n",
       "      <td>0.5160</td>\n",
       "      <td>0.2155</td>\n",
       "      <td>0.1140</td>\n",
       "      <td>0.155</td>\n",
       "      <td>10</td>\n",
       "    </tr>\n",
       "    <tr>\n",
       "      <td>4</td>\n",
       "      <td>1.0</td>\n",
       "      <td>0.330</td>\n",
       "      <td>0.255</td>\n",
       "      <td>0.080</td>\n",
       "      <td>0.2050</td>\n",
       "      <td>0.0895</td>\n",
       "      <td>0.0395</td>\n",
       "      <td>0.055</td>\n",
       "      <td>7</td>\n",
       "    </tr>\n",
       "  </tbody>\n",
       "</table>\n",
       "</div>"
      ],
      "text/plain": [
       "   Sex  Length  Diameter  Height  Whole weight  Shucked weight  \\\n",
       "0  2.0   0.455     0.365   0.095        0.5140          0.2245   \n",
       "1  2.0   0.350     0.265   0.090        0.2255          0.0995   \n",
       "2  0.0   0.530     0.420   0.135        0.6770          0.2565   \n",
       "3  2.0   0.440     0.365   0.125        0.5160          0.2155   \n",
       "4  1.0   0.330     0.255   0.080        0.2050          0.0895   \n",
       "\n",
       "   Viscera weight  Shell weight  Rings  \n",
       "0          0.1010         0.150     15  \n",
       "1          0.0485         0.070      7  \n",
       "2          0.1415         0.210      9  \n",
       "3          0.1140         0.155     10  \n",
       "4          0.0395         0.055      7  "
      ]
     },
     "execution_count": 224,
     "metadata": {},
     "output_type": "execute_result"
    }
   ],
   "source": [
    "data_new['Sex'] = sex_encoded\n",
    "data_new.head()"
   ]
  },
  {
   "cell_type": "code",
   "execution_count": 225,
   "metadata": {},
   "outputs": [],
   "source": [
    "#Splitting the data\n",
    "from sklearn.model_selection import train_test_split\n",
    "from sklearn.preprocessing import StandardScaler\n",
    "import numpy as np\n",
    "\n",
    "train, test = train_test_split(data_new, test_size = 0.15 , random_state = 42)\n",
    "\n",
    "class_set = []\n",
    "new_set = []\n",
    "def split_label(data_set):\n",
    "    class_set = data_set['Rings']\n",
    "    new_set = data_set.drop('Rings', axis = 1)\n",
    "    \n",
    "    return new_set, class_set\n",
    "            \n",
    "train_x_raw, train_y = split_label(train)\n",
    "test_x_raw, test_y = split_label(test)\n",
    "\n",
    "scaler = StandardScaler()\n",
    "train_scaled = scaler.fit_transform(train_x_raw.astype(np.float64))\n",
    "test_scaled = scaler.transform(test_x_raw.astype(np.float64))"
   ]
  },
  {
   "cell_type": "code",
   "execution_count": 226,
   "metadata": {},
   "outputs": [],
   "source": [
    "#convert to new dataset \n",
    "import pandas as pd\n",
    "\n",
    "def convert_fn(dataset):\n",
    "    scaled_data = pd.DataFrame(dataset)\n",
    "    scaled_data = scaled_data.rename(columns = {0:'Sex', 1:'Length', 2:'Diameter', 3:'Height', \n",
    "                                            4:'Whole weight', 5:'Shucked weight', 6:'Viscera weight', \n",
    "                                            7:'Shell weight'})\n",
    "    return scaled_data\n",
    "\n",
    "train_x = convert_fn(train_scaled)\n",
    "test_x = convert_fn(test_scaled)"
   ]
  },
  {
   "cell_type": "markdown",
   "metadata": {},
   "source": [
    "# Running Regressor"
   ]
  },
  {
   "cell_type": "markdown",
   "metadata": {},
   "source": [
    "Using GridSearchCV method to find the best parameters for the model and from the result showing above, we could see when n_estimator is 500 and max_depth is 4 the model performs best. Therefore we choosing these two values as our hyperparameters.\n",
    "The model has all the dimensions of the data set which has MSE of 5.215 for testing data set, 4.729 for training set. "
   ]
  },
  {
   "cell_type": "code",
   "execution_count": 227,
   "metadata": {},
   "outputs": [
    {
     "data": {
      "text/plain": [
       "{'max_depth': 4, 'n_estimators': 500}"
      ]
     },
     "execution_count": 227,
     "metadata": {},
     "output_type": "execute_result"
    }
   ],
   "source": [
    "#Running Random Forest Regressor\n",
    "#Searching for best estimators used for regressor\n",
    "from sklearn.model_selection import GridSearchCV\n",
    "from sklearn.ensemble import RandomForestRegressor\n",
    "\n",
    "param_grid = ({\n",
    "    'n_estimators' : [10,100,500], 'max_depth' :[1,4]\n",
    "})\n",
    "\n",
    "\n",
    "forest_reg = RandomForestRegressor(random_state = 42)\n",
    "\n",
    "grid_search = GridSearchCV(forest_reg, param_grid, cv=5, scoring='neg_mean_squared_error',return_train_score=True) \n",
    "\n",
    "grid_search.fit(train_scaled, train_y)\n",
    "\n",
    "grid_search.best_params_\n"
   ]
  },
  {
   "cell_type": "code",
   "execution_count": 236,
   "metadata": {},
   "outputs": [
    {
     "name": "stderr",
     "output_type": "stream",
     "text": [
      "/opt/anaconda3/lib/python3.7/site-packages/ipykernel_launcher.py:7: DataConversionWarning: A column-vector y was passed when a 1d array was expected. Please change the shape of y to (n_samples,), for example using ravel().\n",
      "  import sys\n"
     ]
    },
    {
     "name": "stdout",
     "output_type": "stream",
     "text": [
      "The original dataset has 8 dimensions, the MSE for testing set is 5.215, the MSE for training set is 4.729.\n"
     ]
    }
   ],
   "source": [
    "#Reporting MSE for both set \n",
    "from sklearn.ensemble import RandomForestRegressor\n",
    "from sklearn.metrics import mean_squared_error\n",
    "best_forest_reg = RandomForestRegressor(max_depth = 4, n_estimators = 500, random_state = 42)\n",
    "\n",
    "def cal_mse(reg, train_x, train_y, test_x, test_y):\n",
    "    reg.fit(train_x, train_y)\n",
    "    pred_y_test = np.round(reg.predict(test_x))\n",
    "    pred_y_train = np.round(reg.predict(train_x))\n",
    "    mse_test = mean_squared_error(test_y, pred_y_test)\n",
    "    mse_train = mean_squared_error(train_y, pred_y_train)\n",
    "    return pred_y_test,pred_y_train, mse_test, mse_train\n",
    "\n",
    "pred_test, pred_train, mse_test, mse_train, = cal_mse(best_forest_reg, train_x, train_y, test_x, test_y)\n",
    "print('The original dataset has %d dimensions, the MSE for testing set is %.3f, the MSE for training set is %.3f.' \n",
    "      %(train_x.shape[1], mse_test, mse_train))"
   ]
  },
  {
   "cell_type": "code",
   "execution_count": 229,
   "metadata": {},
   "outputs": [],
   "source": [
    "import numpy as np\n",
    "pred_train.reshape(-1,1)\n",
    "pred_test = np.array(pred_test).reshape(-1,1)\n",
    "test_y = np.array(test_y).reshape(-1,1)\n",
    "train_y = np.array(train_y).reshape(-1,1)"
   ]
  },
  {
   "cell_type": "code",
   "execution_count": 230,
   "metadata": {},
   "outputs": [
    {
     "name": "stdout",
     "output_type": "stream",
     "text": [
      "The raw error for test set is :  -60.0\n",
      "The raw error for train set is :  -86.0\n"
     ]
    }
   ],
   "source": [
    "import numpy as np\n",
    "\n",
    "test_error = []\n",
    "sum_error_test = []\n",
    "train_error = []\n",
    "sum_error_train = []\n",
    "for i in range(0,len(pred_test)):\n",
    "    test_error.append(pred_test[i] - test_y[i])\n",
    "    sum_error_test = np.sum(test_error)\n",
    "print(\"The raw error for test set is : \",sum_error_test)\n",
    "\n",
    "for i in range(0,len(pred_train)):\n",
    "    train_error.append(pred_train[i] - train_y[i])\n",
    "    sum_error_train = np.sum(train_error)\n",
    "print(\"The raw error for train set is : \",sum_error_train)"
   ]
  },
  {
   "cell_type": "markdown",
   "metadata": {},
   "source": [
    "# New model after reduce the dimensions "
   ]
  },
  {
   "cell_type": "markdown",
   "metadata": {},
   "source": [
    "From the below the result of feature importances we choosing 'Shell weight' which counts for 82.92%, 'Shucked weight' which counts for 12.49% and 'Diameter' counts for 1.84% as the featured dimensions and rerun the randomforest regressor.\n",
    "The new model has 3 dimensions, the MSE for testing set is 5.335, the MSE for training set is 4.839.\n",
    "The raw error for test set is -45.0 and is0 for train set."
   ]
  },
  {
   "cell_type": "code",
   "execution_count": 231,
   "metadata": {},
   "outputs": [
    {
     "data": {
      "text/plain": [
       "[(0.8292487151728267, 'Shell weight'),\n",
       " (0.12490063674117265, 'Shucked weight'),\n",
       " (0.018445774895707024, 'Diameter'),\n",
       " (0.010931736924709307, 'Sex'),\n",
       " (0.005562264715811438, 'Whole weight'),\n",
       " (0.004512903787263986, 'Height'),\n",
       " (0.003340744545065061, 'Length'),\n",
       " (0.0030572232174437067, 'Viscera weight')]"
      ]
     },
     "execution_count": 231,
     "metadata": {},
     "output_type": "execute_result"
    }
   ],
   "source": [
    "#Compare feature importance\n",
    "feature = []\n",
    "for name, score in zip(train_x, best_forest_reg.feature_importances_):\n",
    "    feature.append((score, name))\n",
    "    \n",
    "feature.sort(reverse = True)\n",
    "feature"
   ]
  },
  {
   "cell_type": "code",
   "execution_count": 232,
   "metadata": {},
   "outputs": [],
   "source": [
    "import pandas as pd\n",
    "from sklearn.preprocessing import StandardScaler\n",
    "new_train_x = pd.DataFrame(train_x, columns = ['Shell weight','Shucked weight','Diameter'])\n",
    "new_test_x = pd.DataFrame(test_x, columns = ['Shell weight','Shucked weight','Diameter'])\n",
    "\n",
    "scaler = StandardScaler()\n",
    "new_train_x = scaler.fit_transform(new_train_x.astype(np.float64))\n",
    "new_test_x = scaler.transform(new_test_x.astype(np.float64))"
   ]
  },
  {
   "cell_type": "code",
   "execution_count": 237,
   "metadata": {},
   "outputs": [
    {
     "name": "stderr",
     "output_type": "stream",
     "text": [
      "/opt/anaconda3/lib/python3.7/site-packages/ipykernel_launcher.py:7: DataConversionWarning: A column-vector y was passed when a 1d array was expected. Please change the shape of y to (n_samples,), for example using ravel().\n",
      "  import sys\n"
     ]
    },
    {
     "name": "stdout",
     "output_type": "stream",
     "text": [
      "The original dataset has 3 dimensions, the MSE for testing set is 5.335, the MSE for training set is 4.839.\n"
     ]
    }
   ],
   "source": [
    "pred_test_2, pred_train_2, mse_test_2, mse_train_2, = cal_mse(best_forest_reg, new_train_x, train_y, new_test_x , test_y)\n",
    "print('The original dataset has %d dimensions, the MSE for testing set is %.3f, the MSE for training set is %.3f.' \n",
    "      %(new_train_x.shape[1], mse_test_2, mse_train_2))"
   ]
  },
  {
   "cell_type": "code",
   "execution_count": 234,
   "metadata": {},
   "outputs": [
    {
     "name": "stdout",
     "output_type": "stream",
     "text": [
      "The raw error for test set is :  -45.0\n",
      "The raw error for train set is :  0.0\n"
     ]
    }
   ],
   "source": [
    "import numpy as np\n",
    "pred_train_2 = np.array(pred_train_2).reshape(-1,1)\n",
    "test_error2 = []\n",
    "sum_error_test2 = []\n",
    "train_error2 = []\n",
    "sum_error_train2 = []\n",
    "for i in range(0,len(pred_test_2)):\n",
    "    test_error2.append(pred_test_2[i] - test_y[i])\n",
    "    sum_error_test2 = np.sum(test_error2)\n",
    "print(\"The raw error for test set is : \",sum_error_test2)\n",
    "\n",
    "for i in range(0,len(pred_train_2)):\n",
    "    train_error.append(pred_train_2[i] - train_y[i])\n",
    "    sum_error_train2 = np.sum(train_error2)\n",
    "print(\"The raw error for train set is : \",sum_error_train2)"
   ]
  },
  {
   "cell_type": "code",
   "execution_count": 235,
   "metadata": {},
   "outputs": [
    {
     "data": {
      "image/png": "[encoded data removed]",
      "text/plain": [
       "<Figure size 432x288 with 1 Axes>"
      ]
     },
     "metadata": {
      "needs_background": "light"
     },
     "output_type": "display_data"
    }
   ],
   "source": [
    "#Plotting Raw Error for both regressors on training and testing set\n",
    "%matplotlib inline\n",
    "import matplotlib \n",
    "import matplotlib.pyplot as plt\n",
    "import pandas as pd\n",
    "\n",
    "label_list = ['raw_error_test','raw_error_train'] \n",
    "reg1 = [-60, -86]\n",
    "reg2 = [-45, 0]\n",
    "x = range(len(reg1))\n",
    "\n",
    "rects1 = plt.bar(x, height=reg1, width=0.4, alpha = 0.8, color = 'yellow', label=\"full_dim\")\n",
    "rects2 = plt.bar(x, height=reg2, width=0.4, color = 'lightblue', label=\"redc_dim\")\n",
    "plt.xticks(x, label_list)\n",
    "plt.xlabel('Data Set')\n",
    "plt.title(\"Raw Error Bar Plot\")\n",
    "plt.ylabel('Raw error')\n",
    "plt.legend()\n",
    "for rect in rects1:\n",
    "    height = rect.get_height()\n",
    "    plt.text(rect.get_x() + rect.get_width() / 2, height+1, str(height), ha=\"center\", va=\"bottom\")\n",
    "for rect in rects2:\n",
    "    height = rect.get_height()\n",
    "    plt.text(rect.get_x() + rect.get_width() / 2, height+1, str(height), ha=\"center\", va=\"bottom\")\n",
    "\n",
    "plt.show()"
   ]
  },
  {
   "cell_type": "markdown",
   "metadata": {},
   "source": [
    "Generally speaking, by comparing the MSE and raw error for two regressor we find that reducing the dimensions is no necessary to improve the performance of regressors since the MSE for testing set of regressor 2 is even higher than regressor 1. However from the raw error plot above, we still can see that the raw error for regressors with full dimension is higher than the regressor with reducted dimensions. Regressor2 incidently has raw error of 0 on  training set, but it's just a conincidence."
   ]
  }
 ],
 "metadata": {
  "kernelspec": {
   "display_name": "Python 3",
   "language": "python",
   "name": "python3"
  },
  "language_info": {
   "codemirror_mode": {
    "name": "ipython",
    "version": 3
   },
   "file_extension": ".py",
   "mimetype": "text/x-python",
   "name": "python",
   "nbconvert_exporter": "python",
   "pygments_lexer": "ipython3",
   "version": "3.7.4"
  }
 },
 "nbformat": 4,
 "nbformat_minor": 2
}
